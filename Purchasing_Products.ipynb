{
  "nbformat": 4,
  "nbformat_minor": 0,
  "metadata": {
    "colab": {
      "provenance": []
    },
    "kernelspec": {
      "name": "python3",
      "display_name": "Python 3"
    },
    "language_info": {
      "name": "python"
    }
  },
  "cells": [
    {
      "cell_type": "markdown",
      "source": [
        "**Read Inventory**\n"
      ],
      "metadata": {
        "id": "TcewzxowrPuE"
      }
    },
    {
      "cell_type": "code",
      "execution_count": null,
      "metadata": {
        "id": "kg2IMf02lpo9"
      },
      "outputs": [],
      "source": [
        "import json\n",
        "\n",
        "fd = open(\"record.json\",'r')\n",
        "r = fd.read()\n",
        "fd.close()\n",
        "\n",
        "record = json.loads(r)\n"
      ]
    },
    {
      "cell_type": "code",
      "source": [
        "record\n"
      ],
      "metadata": {
        "colab": {
          "base_uri": "https://localhost:8080/"
        },
        "id": "4eEElNq4rGYZ",
        "outputId": "4f4ed4fa-f0a7-4b8f-b977-8a687a07e63a"
      },
      "execution_count": null,
      "outputs": [
        {
          "output_type": "execute_result",
          "data": {
            "text/plain": [
              "{'1001': {'name': 'Choco Cake', 'qn': 34, 'pr': 100},\n",
              " '1002': {'name': 'Milky Bar', 'pr': 80, 'qn': 100},\n",
              " '1003': {'name': 'Drink', 'pr': 85, 'qn': 100},\n",
              " '1004': {'name': 'Candy', 'pr': 5, 'qn': 1000},\n",
              " '1005': {'name': 'Cookies', 'pr': 20, 'qn': 100},\n",
              " '1006': {'name': 'Pastries', 'pr': 50, 'qn': 10},\n",
              " '1007': {'name': 'Milk', 'pr': 30, 'qn': 30},\n",
              " '1008': {'name': 'Croissants', 'pr': 100, 'qn': 15},\n",
              " '1009': {'name': 'Ice Cream', 'pr': 60, 'qn': 100},\n",
              " '1010': {'name': 'Nutella', 'pr': 300, 'qn': 100}}"
            ]
          },
          "metadata": {},
          "execution_count": 59
        }
      ]
    },
    {
      "cell_type": "markdown",
      "source": [
        "*italicized text*\n",
        "**Purchase**"
      ],
      "metadata": {
        "id": "TkYrlV9QsAz9"
      }
    },
    {
      "cell_type": "code",
      "source": [
        "print(\"****************************************\")\n",
        "ui_prod  = str(input(\"Enter the product_Id: \"))\n",
        "ui_quant = int(input(\"Enter the quantity: \"))\n",
        "print(\"****************************************\")\n",
        "print(\"Product: \", record[ui_prod]['name'])\n",
        "print(\"Price: \", record[ui_prod]['pr'])\n",
        "print(\"----------------------------------------\")\n",
        "print(\"Billing Amount: \", record[ui_prod]['pr'] * ui_quant)\n",
        "print(\"----------------------------------------\")\n",
        "record[ui_prod]['qn'] = record[ui_prod]['qn'] - ui_quant\n"
      ],
      "metadata": {
        "colab": {
          "base_uri": "https://localhost:8080/"
        },
        "id": "6_nsoqegsNoh",
        "outputId": "efe8e52b-61a4-425a-88d0-6009ad9ac7b8"
      },
      "execution_count": null,
      "outputs": [
        {
          "output_type": "stream",
          "name": "stdout",
          "text": [
            "****************************************\n",
            "Enter the product_Id: 1001\n",
            "Enter the quantity: 4\n",
            "****************************************\n",
            "Product:  Choco Cake\n",
            "Price:  100\n",
            "----------------------------------------\n",
            "Billing Amount:  400\n",
            "----------------------------------------\n"
          ]
        }
      ]
    },
    {
      "cell_type": "markdown",
      "source": [
        "**Update Inventory after purchase**"
      ],
      "metadata": {
        "id": "c6hRmBfRsh0o"
      }
    },
    {
      "cell_type": "code",
      "source": [
        "js = json.dumps(record)\n",
        "\n",
        "fd = open(\"record.json\",'w')\n",
        "fd.write(js)\n",
        "fd.close()\n"
      ],
      "metadata": {
        "id": "XKxGs1jOsqwW"
      },
      "execution_count": null,
      "outputs": []
    },
    {
      "cell_type": "code",
      "source": [
        "record"
      ],
      "metadata": {
        "colab": {
          "base_uri": "https://localhost:8080/"
        },
        "id": "1BmsGkleck96",
        "outputId": "823ac4ef-3269-47cb-8837-8a99d2caad1e"
      },
      "execution_count": null,
      "outputs": [
        {
          "output_type": "execute_result",
          "data": {
            "text/plain": [
              "{'1001': {'name': 'Choco Cake', 'qn': 30, 'pr': 100},\n",
              " '1002': {'name': 'Milky Bar', 'pr': 80, 'qn': 100},\n",
              " '1003': {'name': 'Drink', 'pr': 85, 'qn': 100},\n",
              " '1004': {'name': 'Candy', 'pr': 5, 'qn': 1000},\n",
              " '1005': {'name': 'Cookies', 'pr': 20, 'qn': 100},\n",
              " '1006': {'name': 'Pastries', 'pr': 50, 'qn': 10},\n",
              " '1007': {'name': 'Milk', 'pr': 30, 'qn': 30},\n",
              " '1008': {'name': 'Croissants', 'pr': 100, 'qn': 15},\n",
              " '1009': {'name': 'Ice Cream', 'pr': 60, 'qn': 100},\n",
              " '1010': {'name': 'Nutella', 'pr': 300, 'qn': 100}}"
            ]
          },
          "metadata": {},
          "execution_count": 62
        }
      ]
    },
    {
      "cell_type": "markdown",
      "source": [
        "**Sales JSON**"
      ],
      "metadata": {
        "id": "N3Xd2IRks1rk"
      }
    },
    {
      "cell_type": "code",
      "source": [
        "{'prod' : ui_prod, 'qn' : ui_quant, 'amount': record[ui_prod]['pr'] * ui_quant}"
      ],
      "metadata": {
        "colab": {
          "base_uri": "https://localhost:8080/"
        },
        "id": "a7-R5RomtHJa",
        "outputId": "7150a529-fe42-4b12-878f-96b9e9bf2db9"
      },
      "execution_count": null,
      "outputs": [
        {
          "output_type": "execute_result",
          "data": {
            "text/plain": [
              "{'prod': '1001', 'qn': 4, 'amount': 400}"
            ]
          },
          "metadata": {},
          "execution_count": 63
        }
      ]
    },
    {
      "cell_type": "code",
      "source": [
        "sales = {1 : {'prod' : ui_prod, 'qn' : ui_quant, 'amount': record[ui_prod]['pr'] * ui_quant}}\n",
        "      \n"
      ],
      "metadata": {
        "id": "uwtFkbHdtQ85"
      },
      "execution_count": null,
      "outputs": []
    },
    {
      "cell_type": "code",
      "source": [
        "sales = json.dumps(sales)                                                         # Updating Sales File\n",
        "fd = open('sales.json','w')\n",
        "fd.write(sales)\n",
        "fd.close()\n"
      ],
      "metadata": {
        "id": "Y6SeBaritRJR"
      },
      "execution_count": null,
      "outputs": []
    }
  ]
}