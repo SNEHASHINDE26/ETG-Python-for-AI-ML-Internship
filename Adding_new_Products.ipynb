{
  "nbformat": 4,
  "nbformat_minor": 0,
  "metadata": {
    "colab": {
      "provenance": []
    },
    "kernelspec": {
      "name": "python3",
      "display_name": "Python 3"
    },
    "language_info": {
      "name": "python"
    }
  },
  "cells": [
    {
      "cell_type": "markdown",
      "source": [
        "**Read Data from JSON**"
      ],
      "metadata": {
        "id": "C-i-ZrRwN1Jm"
      }
    },
    {
      "cell_type": "code",
      "execution_count": null,
      "metadata": {
        "id": "IFqs7pv7NqkS"
      },
      "outputs": [],
      "source": [
        "import json\n",
        "\n",
        "fd = open(\"record.json\",'r')\n",
        "r = fd.read()\n",
        "fd.close()\n",
        "\n",
        "record = json.loads(r)\n",
        "\n"
      ]
    },
    {
      "cell_type": "code",
      "source": [
        "record\n"
      ],
      "metadata": {
        "colab": {
          "base_uri": "https://localhost:8080/"
        },
        "id": "ZcgzBNzfPtXk",
        "outputId": "510d4760-1326-4f8f-bacb-344ac3648bf2"
      },
      "execution_count": null,
      "outputs": [
        {
          "output_type": "execute_result",
          "data": {
            "text/plain": [
              "{'1001': {'name': 'Choco Cake', 'qn': 30, 'pr': 100},\n",
              " '1002': {'name': 'Milky Bar', 'pr': 80, 'qn': 100},\n",
              " '1003': {'name': 'Drink', 'pr': 85, 'qn': 100},\n",
              " '1004': {'name': 'Candy', 'pr': 5, 'qn': 1000},\n",
              " '1005': {'name': 'Cookies', 'pr': 20, 'qn': 100},\n",
              " '1006': {'name': 'Pastries', 'pr': 50, 'qn': 10},\n",
              " '1007': {'name': 'Milk', 'pr': 30, 'qn': 30},\n",
              " '1008': {'name': 'Croissants', 'pr': 100, 'qn': 15},\n",
              " '1009': {'name': 'Ice Cream', 'pr': 60, 'qn': 100},\n",
              " '1010': {'name': 'Nutella', 'pr': 300, 'qn': 100}}"
            ]
          },
          "metadata": {},
          "execution_count": 29
        }
      ]
    },
    {
      "cell_type": "markdown",
      "source": [
        "**Add New Item into Inventory**"
      ],
      "metadata": {
        "id": "AejRkraOQ8Jl"
      }
    },
    {
      "cell_type": "code",
      "source": [
        "prod_id = str(input(\"Enter product id:\"))\n",
        "name = str(input(\"Enter name:\"))\n",
        "pr = int(input(\"Enter price:\"))\n",
        "qn = int(input(\"Enter quantity:\"))\n",
        "\n",
        "record[prod_id] = {'name': name, 'pr': pr, 'qn': qn}\n",
        "\n",
        "js = json.dumps(record)\n",
        "\n",
        "fd = open(\"record.json\",'w')\n",
        "fd.write(js)\n",
        "fd.close()"
      ],
      "metadata": {
        "colab": {
          "base_uri": "https://localhost:8080/"
        },
        "id": "GOrExSSgREcS",
        "outputId": "7e85c311-1100-4bea-ce66-3bd40d36447d"
      },
      "execution_count": null,
      "outputs": [
        {
          "name": "stdout",
          "output_type": "stream",
          "text": [
            "Enter product id:1020\n",
            "Enter name:Cadbury Chocolate\n",
            "Enter price:60\n",
            "Enter quantity:150\n"
          ]
        }
      ]
    },
    {
      "cell_type": "code",
      "source": [
        "record\n"
      ],
      "metadata": {
        "colab": {
          "base_uri": "https://localhost:8080/"
        },
        "id": "zO4dhAFOSI2f",
        "outputId": "9ffdb193-0b6c-4555-8b29-5ccf8201c27d"
      },
      "execution_count": null,
      "outputs": [
        {
          "output_type": "execute_result",
          "data": {
            "text/plain": [
              "{'1001': {'name': 'Choco Cake', 'qn': 30, 'pr': 100},\n",
              " '1002': {'name': 'Milky Bar', 'pr': 80, 'qn': 100},\n",
              " '1003': {'name': 'Drink', 'pr': 85, 'qn': 100},\n",
              " '1004': {'name': 'Candy', 'pr': 5, 'qn': 1000},\n",
              " '1005': {'name': 'Cookies', 'pr': 20, 'qn': 100},\n",
              " '1006': {'name': 'Pastries', 'pr': 50, 'qn': 10},\n",
              " '1007': {'name': 'Milk', 'pr': 30, 'qn': 30},\n",
              " '1008': {'name': 'Croissants', 'pr': 100, 'qn': 15},\n",
              " '1009': {'name': 'Ice Cream', 'pr': 60, 'qn': 100},\n",
              " '1010': {'name': 'Nutella', 'pr': 300, 'qn': 100},\n",
              " '1011': {'name': 'Butter', 'pr': 30, 'qn': 25},\n",
              " '1012': {'name': 'Mixed Dryfruits', 'pr': 200, 'qn': 80},\n",
              " '1013': {'name': 'Popcorn', 'pr': 25, 'qn': 30},\n",
              " '1014': {'name': 'Tea', 'pr': 50, 'qn': 90},\n",
              " '1015': {'name': 'Dark Chocolate', 'pr': 110, 'qn': 80},\n",
              " '1016': {'name': 'Choco Pie', 'pr': 80, 'qn': 70},\n",
              " '1017': {'name': 'Peanut Butter', 'pr': 190, 'qn': 40},\n",
              " '1018': {'name': 'Biscuits', 'pr': 30, 'qn': 110},\n",
              " '1019': {'name': 'Juice', 'pr': 90, 'qn': 120},\n",
              " '1020': {'name': 'Cadbury Chocolate', 'pr': 60, 'qn': 150}}"
            ]
          },
          "metadata": {},
          "execution_count": 40
        }
      ]
    },
    {
      "cell_type": "code",
      "source": [
        "del record['1014']\n"
      ],
      "metadata": {
        "id": "Ksr6VjCDSREs"
      },
      "execution_count": null,
      "outputs": []
    },
    {
      "cell_type": "code",
      "source": [
        "record\n"
      ],
      "metadata": {
        "colab": {
          "base_uri": "https://localhost:8080/"
        },
        "id": "ceec7rBRSZXL",
        "outputId": "72b9ee31-c228-45cd-dab0-80a182cda60b"
      },
      "execution_count": null,
      "outputs": [
        {
          "output_type": "execute_result",
          "data": {
            "text/plain": [
              "{'1001': {'name': 'Choco Cake', 'qn': 30, 'pr': 100},\n",
              " '1002': {'name': 'Milky Bar', 'pr': 80, 'qn': 100},\n",
              " '1003': {'name': 'Drink', 'pr': 85, 'qn': 100},\n",
              " '1004': {'name': 'Candy', 'pr': 5, 'qn': 1000},\n",
              " '1005': {'name': 'Cookies', 'pr': 20, 'qn': 100},\n",
              " '1006': {'name': 'Pastries', 'pr': 50, 'qn': 10},\n",
              " '1007': {'name': 'Milk', 'pr': 30, 'qn': 30},\n",
              " '1008': {'name': 'Croissants', 'pr': 100, 'qn': 15},\n",
              " '1009': {'name': 'Ice Cream', 'pr': 60, 'qn': 100},\n",
              " '1010': {'name': 'Nutella', 'pr': 300, 'qn': 100},\n",
              " '1011': {'name': 'Butter', 'pr': 30, 'qn': 25},\n",
              " '1012': {'name': 'Mixed Dryfruits', 'pr': 200, 'qn': 80},\n",
              " '1013': {'name': 'Popcorn', 'pr': 25, 'qn': 30},\n",
              " '1015': {'name': 'Dark Chocolate', 'pr': 110, 'qn': 80},\n",
              " '1016': {'name': 'Choco Pie', 'pr': 80, 'qn': 70},\n",
              " '1017': {'name': 'Peanut Butter', 'pr': 190, 'qn': 40},\n",
              " '1018': {'name': 'Biscuits', 'pr': 30, 'qn': 110},\n",
              " '1019': {'name': 'Juice', 'pr': 90, 'qn': 120},\n",
              " '1020': {'name': 'Cadbury Chocolate', 'pr': 60, 'qn': 150}}"
            ]
          },
          "metadata": {},
          "execution_count": 42
        }
      ]
    }
  ]
}